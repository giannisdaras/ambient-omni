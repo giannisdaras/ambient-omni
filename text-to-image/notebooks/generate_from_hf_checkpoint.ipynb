{
 "cells": [
  {
   "cell_type": "code",
   "execution_count": null,
   "id": "f51ccf25",
   "metadata": {},
   "outputs": [],
   "source": [
    "from micro_diffusion.models.model import create_latent_diffusion\n",
    "from huggingface_hub import hf_hub_download\n",
    "import torch\n",
    "\n",
    "# Init model\n",
    "params = {\n",
    "    'latent_res': 64,\n",
    "    'in_channels': 4,\n",
    "    'pos_interp_scale': 2.0,\n",
    "}\n",
    "model = create_latent_diffusion(**params).to('cuda:1')"
   ]
  },
  {
   "cell_type": "code",
   "execution_count": null,
   "id": "0897700a",
   "metadata": {},
   "outputs": [],
   "source": [
    "import torch\n",
    "from safetensors import safe_open\n",
    "from safetensors.torch import save_file\n",
    "\n",
    "# Download weights from HF\n",
    "model_dict_path = hf_hub_download(repo_id=\"giannisdaras/ambient-o\", filename=\"model.safetensors\")\n",
    "model_dict = {}\n",
    "with safe_open(model_dict_path, framework=\"pt\", device=\"cpu\") as f:\n",
    "   for key in f.keys():\n",
    "       model_dict[key] = f.get_tensor(key)"
   ]
  },
  {
   "cell_type": "code",
   "execution_count": null,
   "id": "649e5dc8",
   "metadata": {},
   "outputs": [],
   "source": [
    "model_dict.keys()"
   ]
  },
  {
   "cell_type": "code",
   "execution_count": null,
   "id": "917250f9",
   "metadata": {},
   "outputs": [],
   "source": [
    "# Convert parameters to float32 + load\n",
    "float_model_params = {\n",
    "    k: v.to(torch.float32) for k, v in model_dict.items()\n",
    "}\n",
    "model.dit.load_state_dict(float_model_params)\n",
    "\n",
    "# Eval mode\n",
    "model = model.eval()"
   ]
  },
  {
   "cell_type": "code",
   "execution_count": null,
   "id": "32ba4344",
   "metadata": {},
   "outputs": [],
   "source": [
    "next(model.parameters()).device"
   ]
  },
  {
   "cell_type": "code",
   "execution_count": null,
   "id": "ac2ca34a",
   "metadata": {},
   "outputs": [],
   "source": [
    "# import torch\n",
    "# from safetensors import safe_open\n",
    "# from safetensors.torch import save_file\n",
    "# save_file(model.dit.state_dict(), \"model.safetensors\")"
   ]
  },
  {
   "cell_type": "code",
   "execution_count": null,
   "id": "5cae8e1b",
   "metadata": {},
   "outputs": [],
   "source": [
    "prompts = [\n",
    "    \"Pirate ship trapped in a cosmic maelstrom nebula, rendered in cosmic beach whirlpool engine, volumet\",\n",
    "    \"A illustration from a graphic novel. A bustling city street under the shine of a full moon.\",\n",
    "    \"A giant cobra snake made from corn\",\n",
    "    \"A fierce garden gnome warrior, clad in armor crafted from leaves and bark, brandishes a tiny sword.\",\n",
    "    \"A capybara made of lego sitting in a realistic, natural field\",\n",
    "    \"a close-up of a fire spitting dragon, cinematic shot.\",\n",
    "    \"Panda mad scientist mixing sparkling chemicals, artstation\"\n",
    "]\n",
    "images = model.generate(prompt=prompts, num_inference_steps=40, guidance_scale=5.0, seed=0)"
   ]
  },
  {
   "cell_type": "code",
   "execution_count": null,
   "id": "b2eb7ba6",
   "metadata": {},
   "outputs": [],
   "source": [
    "images.shape"
   ]
  },
  {
   "cell_type": "code",
   "execution_count": null,
   "id": "895c8b94",
   "metadata": {},
   "outputs": [],
   "source": [
    "import torchvision\n",
    "torchvision.transforms.ToPILImage()(images[0])"
   ]
  },
  {
   "cell_type": "code",
   "execution_count": null,
   "id": "114372e9",
   "metadata": {},
   "outputs": [],
   "source": [
    "torchvision.transforms.ToPILImage()(images[1])"
   ]
  },
  {
   "cell_type": "code",
   "execution_count": null,
   "id": "df5502a9",
   "metadata": {},
   "outputs": [],
   "source": [
    "torchvision.transforms.ToPILImage()(images[3])"
   ]
  }
 ],
 "metadata": {
  "kernelspec": {
   "display_name": "microdiffusion",
   "language": "python",
   "name": "python3"
  },
  "language_info": {
   "codemirror_mode": {
    "name": "ipython",
    "version": 3
   },
   "file_extension": ".py",
   "mimetype": "text/x-python",
   "name": "python",
   "nbconvert_exporter": "python",
   "pygments_lexer": "ipython3",
   "version": "3.9.21"
  }
 },
 "nbformat": 4,
 "nbformat_minor": 5
}
